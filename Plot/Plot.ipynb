{
 "cells": [
  {
   "cell_type": "code",
   "execution_count": 1,
   "id": "fc319ae3",
   "metadata": {
    "ExecuteTime": {
     "end_time": "2023-06-27T22:44:31.998431Z",
     "start_time": "2023-06-27T22:44:31.144780Z"
    }
   },
   "outputs": [],
   "source": [
    "# Import the librairies\n",
    "import matplotlib.pyplot as plt\n",
    "from matplotlib.colors import ListedColormap\n",
    "from mpl_toolkits.mplot3d import Axes3D\n",
    "import seaborn as sns\n",
    "%matplotlib inline"
   ]
  },
  {
   "cell_type": "code",
   "execution_count": 2,
   "id": "11e6d405",
   "metadata": {
    "ExecuteTime": {
     "end_time": "2023-06-27T22:44:32.003253Z",
     "start_time": "2023-06-27T22:44:31.999426Z"
    }
   },
   "outputs": [],
   "source": [
    "def plot_assignment(x, y, assignment, contour = False, levels = None, xx = None, yy = None, f = None):\n",
    "    \"\"\"\n",
    "    This function is used to plot a scatter plot of the points assignments.\n",
    "    Parameters:\n",
    "        x_points (list): The list of x-coordinates.\n",
    "        y_points (list): The list of y-coordinates.\n",
    "        assignment (array): An array of the assigned values for each point in xy.\n",
    "    \"\"\"\n",
    "    # Create a color palette of length of unique assignments.\n",
    "    palette = sns.color_palette(\"rainbow\", n_colors = len(np.unique(assignment)))\n",
    "    # Get colormap from seaborn\n",
    "    cmap = ListedColormap(palette.as_hex())\n",
    "    # Create a figure of size (10, 10)\n",
    "    plt.figure(figsize = (10, 10))\n",
    "    # Plot the scatter plot using seaborn's scatterplot function\n",
    "    plt.scatter(x = x, y = y, c = assignment, cmap = cmap)\n",
    "    # Display the contour\n",
    "    plt.contour(xx, yy, f, levels = levels, colors = \"k\")\n",
    "    # Plot the axis labels and title\n",
    "    plt.xlabel('X', fontsize = 15)\n",
    "    plt.ylabel('Y', fontsize = 15)\n",
    "    if contour == True:\n",
    "        plt.title('Contour plot of the Kernel Density Estimation:', fontsize = 15)    \n",
    "    # Show the plot\n",
    "    plt.show()"
   ]
  },
  {
   "cell_type": "code",
   "execution_count": 3,
   "id": "17cd9dc6",
   "metadata": {
    "ExecuteTime": {
     "end_time": "2023-06-27T22:44:32.012106Z",
     "start_time": "2023-06-27T22:44:32.004248Z"
    }
   },
   "outputs": [],
   "source": [
    "def plot_assignment_3D(x, y, xx, yy, f, assignment, density):\n",
    "    \"\"\"\n",
    "    This function is used to plot a 3D scatter plot of the points assignments.\n",
    "    Parameters:\n",
    "        x_points (list): The list of x-coordinates.\n",
    "        y_points (list): The list of y-coordinates.\n",
    "        xx (array): The x-coordinates of the grid points.\n",
    "        yy (array): The y-coordinates of the grid points.\n",
    "        f (array): An array of density values for each point on the grid.\n",
    "        assignment (array): An array of the assigned values for each point in xy.\n",
    "        density (list): List of density values of the points.\n",
    "    \"\"\"\n",
    "    # Create a color palette of length of unique assignments.\n",
    "    palette = sns.color_palette(\"rainbow\", n_colors = len(np.unique(assignment)))\n",
    "    # Create figure and 3D axis\n",
    "    fig = plt.figure(figsize = (10, 10))\n",
    "    ax = fig.add_subplot(111, projection='3d')\n",
    "    # Get colormap from seaborn\n",
    "    cmap = ListedColormap(palette.as_hex())\n",
    "    # Plot the wireframe of function f\n",
    "    ax.plot_wireframe(xx, yy, f, color='gray', rstride=5, cstride = 5, alpha = 0.3)\n",
    "    # Plot the scatter points colored by assignment\n",
    "    ax.scatter(xs = x, ys = y, zs = density, c = assignment, cmap = cmap)\n",
    "    # Plot the axis labels and title\n",
    "    plt.xlabel('X', fontsize = 15)\n",
    "    plt.ylabel('Y', fontsize = 15)\n",
    "    ax.set_zlabel('Kernel Density Estimation', fontsize = 15)\n",
    "    plt.title('3D plot of the Kernel Density Estimation:', fontsize = 15)\n",
    "    # Show the plot\n",
    "    plt.show()"
   ]
  }
 ],
 "metadata": {
  "kernelspec": {
   "display_name": "Python 3 (ipykernel)",
   "language": "python",
   "name": "python3"
  },
  "language_info": {
   "codemirror_mode": {
    "name": "ipython",
    "version": 3
   },
   "file_extension": ".py",
   "mimetype": "text/x-python",
   "name": "python",
   "nbconvert_exporter": "python",
   "pygments_lexer": "ipython3",
   "version": "3.11.4"
  },
  "toc": {
   "base_numbering": 1,
   "nav_menu": {},
   "number_sections": true,
   "sideBar": true,
   "skip_h1_title": false,
   "title_cell": "Table of Contents",
   "title_sidebar": "Contents",
   "toc_cell": false,
   "toc_position": {},
   "toc_section_display": true,
   "toc_window_display": false
  }
 },
 "nbformat": 4,
 "nbformat_minor": 5
}
